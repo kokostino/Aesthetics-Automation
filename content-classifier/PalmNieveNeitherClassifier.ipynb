{
 "cells": [
  {
   "cell_type": "code",
   "execution_count": 84,
   "id": "f5a0df98",
   "metadata": {},
   "outputs": [],
   "source": [
    "import os\n",
    "import zipfile\n",
    "import random\n",
    "import tensorflow as tf\n",
    "import shutil\n",
    "from tensorflow.keras.optimizers import RMSprop\n",
    "from tensorflow.keras.preprocessing.image import ImageDataGenerator\n",
    "from shutil import copyfile\n",
    "import matplotlib.pyplot as plt\n",
    "from tensorflow.keras.utils import to_categorical"
   ]
  },
  {
   "cell_type": "code",
   "execution_count": 4,
   "id": "6a39aaaa",
   "metadata": {},
   "outputs": [],
   "source": [
    "path='C:\\\\Users\\\\dherschmann\\\\Documents\\\\GitHub\\\\Palmtree-Classifier'"
   ]
  },
  {
   "cell_type": "code",
   "execution_count": 67,
   "id": "4e4b74fd",
   "metadata": {},
   "outputs": [],
   "source": [
    "try:\n",
    "    os.mkdir(os.getcwd()+'/pics')\n",
    "    os.mkdir(path+'/pics/training')\n",
    "    os.mkdir(path+'/pics/testing')\n",
    "    os.mkdir(path+'/pics/training/palm')\n",
    "    os.mkdir(path+'/pics/training/snow')\n",
    "    os.mkdir(path+'/pics/training/rest')\n",
    "    os.mkdir(path+'/pics/testing/palm')\n",
    "    os.mkdir(path+'/pics/testing/snow')\n",
    "    os.mkdir(path+'/pics/testing/rest')\n",
    "except:\n",
    "    pass\n",
    "\n",
    "def split_data(SOURCE, TRAINING, TESTING, SPLIT_SIZE):\n",
    "\n",
    "    files = []\n",
    "    for file in os.listdir(SOURCE):\n",
    "        files.append(file)\n",
    "\n",
    "    training_length = int(len(files) * SPLIT_SIZE)\n",
    "    testing_length = int(len(files) - training_length)\n",
    "    #shuffled_set = random.sample(files, len(files))\n",
    "    random.shuffle(files)\n",
    "    shuffled_set = files\n",
    "    training_set = shuffled_set[0:training_length]\n",
    "    testing_set = shuffled_set[-testing_length:]\n",
    "\n",
    "    for filename in training_set:\n",
    "        this_file = SOURCE + filename\n",
    "        destination = TRAINING + filename\n",
    "        copyfile(this_file, destination)\n",
    "\n",
    "    for filename in testing_set:\n",
    "        this_file = SOURCE + filename\n",
    "        destination = TESTING + filename\n",
    "        copyfile(this_file, destination)"
   ]
  },
  {
   "cell_type": "code",
   "execution_count": 6,
   "id": "6d4682d3",
   "metadata": {},
   "outputs": [
    {
     "data": {
      "text/plain": [
       "'C:\\\\Users\\\\dherschmann\\\\Documents\\\\GitHub\\\\Palmtree-Classifier'"
      ]
     },
     "execution_count": 6,
     "metadata": {},
     "output_type": "execute_result"
    }
   ],
   "source": [
    "os.getcwd()"
   ]
  },
  {
   "cell_type": "code",
   "execution_count": 68,
   "id": "3a37aa17",
   "metadata": {},
   "outputs": [
    {
     "name": "stdout",
     "output_type": "stream",
     "text": [
      "393\n",
      "87\n",
      "407\n",
      "90\n",
      "772\n",
      "170\n"
     ]
    }
   ],
   "source": [
    "PALM_SOURCE_DIR = path+\"/allpalms/\"\n",
    "TRAINING_PALM_DIR = path+\"/pics/training/palm/\"\n",
    "TESTING_PALM_DIR = path+\"/pics/testing/palm/\"\n",
    "SNOW_SOURCE_DIR = path+\"/allnieve/\"\n",
    "TRAINING_SNOW_DIR = path+\"/pics/training/snow/\"\n",
    "TESTING_SNOW_DIR = path+\"/pics/testing/snow/\"\n",
    "REST_SOURCE_DIR = path+\"/allnone/\"\n",
    "TRAINING_REST_DIR =path+\"/pics/training/rest/\"\n",
    "TESTING_REST_DIR =path+\"/pics/testing/rest/\"\n",
    "\n",
    "split_size = .82\n",
    "split_data(PALM_SOURCE_DIR, TRAINING_PALM_DIR, TESTING_PALM_DIR, split_size)\n",
    "split_data(SNOW_SOURCE_DIR, TRAINING_SNOW_DIR, TESTING_SNOW_DIR, split_size)\n",
    "split_data(REST_SOURCE_DIR, TRAINING_REST_DIR, TESTING_REST_DIR, split_size)\n",
    "\n",
    "print(len(os.listdir(path+'/pics/training/palm/')))\n",
    "print(len(os.listdir(path+\"/pics/testing/palm/\")))\n",
    "print(len(os.listdir(path+\"/pics/training/snow/\")))\n",
    "print(len(os.listdir(path+\"/pics/testing/snow/\")))\n",
    "print(len(os.listdir(path+\"/pics/training/rest/\")))\n",
    "print(len(os.listdir(path+\"/pics/testing/rest/\")))"
   ]
  },
  {
   "cell_type": "code",
   "execution_count": 69,
   "id": "4b912b24",
   "metadata": {},
   "outputs": [
    {
     "name": "stdout",
     "output_type": "stream",
     "text": [
      "Anteil Palmen in Prozent:  25.0\n",
      "Anteil Schnee in Prozent:  25.9\n",
      "Anteil Rest in Prozent:  49.1\n"
     ]
    }
   ],
   "source": [
    "total=len(os.listdir(path+'/allpalms/'))+len(os.listdir(path+'/allnieve/'))+len(os.listdir(path+'/allnone/'))\n",
    "print('Anteil Palmen in Prozent: ',round(100*len(os.listdir(path+'/allpalms/'))/total,1))\n",
    "print('Anteil Schnee in Prozent: ',round(100*len(os.listdir(path+'/allnieve/'))/total,1))\n",
    "print('Anteil Rest in Prozent: ',round(100*len(os.listdir(path+'/allnone/'))/total,1))"
   ]
  },
  {
   "cell_type": "code",
   "execution_count": 70,
   "id": "304b8b7d",
   "metadata": {},
   "outputs": [
    {
     "name": "stdout",
     "output_type": "stream",
     "text": [
      "Found 1572 images belonging to 3 classes.\n",
      "Found 347 images belonging to 3 classes.\n"
     ]
    }
   ],
   "source": [
    "TRAINING_DIR =path+\"/pics/training/\"\n",
    "train_datagen =ImageDataGenerator(rescale=1/255.0,\n",
    "      rotation_range=20,\n",
    "      width_shift_range=0.2,\n",
    "      height_shift_range=0.2,\n",
    "      shear_range=0.2,\n",
    "      zoom_range=0.2,\n",
    "      horizontal_flip=True,\n",
    "      fill_mode='nearest') \n",
    "train_generator =train_datagen.flow_from_directory(TRAINING_DIR, batch_size=25,\n",
    "                                                  class_mode='categorical',target_size=(300,300))\n",
    "\n",
    "VALIDATION_DIR =path+\"/pics/testing/\" \n",
    "validation_datagen = ImageDataGenerator(rescale=1/255.0)\n",
    "validation_generator =validation_datagen.flow_from_directory(VALIDATION_DIR, batch_size=25,\n",
    "                                                            class_mode='categorical', target_size=(300,300))\n",
    "\n",
    "\n",
    "\n",
    "validation_datagen = ImageDataGenerator(rescale=1/255)"
   ]
  },
  {
   "cell_type": "code",
   "execution_count": 14,
   "id": "28bb83e2",
   "metadata": {},
   "outputs": [],
   "source": [
    "%matplotlib inline\n",
    "def plot_acc_and_loss(hist):\n",
    "    acc = hist.history['acc']\n",
    "    val_acc = hist.history['val_acc']\n",
    "    loss = hist.history['loss']\n",
    "    val_loss = hist.history['val_loss']\n",
    "    epochs = range(len(acc))\n",
    "    f, (ax1, ax2) = plt.subplots(1,2,figsize=(15,5))\n",
    "\n",
    "    ax1.plot(epochs, acc, 'r', label='Training accuracy')\n",
    "    ax1.plot(epochs, val_acc, 'b', label='Validation accuracy')\n",
    "    ax1.legend()\n",
    "    ax2.plot(epochs, loss, 'r', label='Training Loss')\n",
    "    ax2.plot(epochs, val_loss, 'b', label='Validation Loss')\n",
    "    ax2.legend()\n",
    "    f.show()"
   ]
  },
  {
   "cell_type": "code",
   "execution_count": 79,
   "id": "5cd16284",
   "metadata": {},
   "outputs": [],
   "source": [
    "from PIL import Image\n",
    "import numpy as np\n",
    "from skimage import transform\n",
    "\n",
    "def load(filename):\n",
    "    np_image = Image.open(filename)\n",
    "    np_image = np.array(np_image).astype('float32')/255\n",
    "    np_image = transform.resize(np_image, (224, 224, 3))\n",
    "    np_image = np.expand_dims(np_image, axis=0)\n",
    "    return np_image\n",
    "\n",
    "def get_predictions_of_class(model, cls):\n",
    "    pred=[]\n",
    "    for image in os.listdir(path+'/pics/testing/'+cls):\n",
    "        img = load(path+'/pics/testing/'+cls+'/'+image)\n",
    "        a=model.predict(img)\n",
    "        pred.append(np.argmax(a))\n",
    "    return pred"
   ]
  },
  {
   "cell_type": "code",
   "execution_count": 102,
   "id": "06953a96",
   "metadata": {},
   "outputs": [],
   "source": [
    "modelMNV2.save('my_model.h5')"
   ]
  },
  {
   "cell_type": "markdown",
   "id": "0cc145f2",
   "metadata": {},
   "source": [
    "---\n",
    "# Pre-trained MobileNetV2\n",
    "---"
   ]
  },
  {
   "cell_type": "code",
   "execution_count": 1,
   "id": "0ecd6432",
   "metadata": {},
   "outputs": [],
   "source": [
    "base_model=tf.keras.applications.MobileNetV2(input_shape=(224,224,3),weights='imagenet',include_top=False) #imports the mobilenet model and discards the last 1000 neuron layer.\n",
    "x=base_model.output\n",
    "x=tf.keras.layers.GlobalAveragePooling2D()(x)\n",
    "preds=tf.keras.layers.Dense(3,activation='softmax')(x)\n",
    "\n",
    "modelMNV2=tf.keras.models.Model(inputs=base_model.input,outputs=preds)\n",
    "\n",
    "for layer in modelMNV2.layers[:156]:\n",
    "    layer.trainable=False\n",
    "for layer in modelMNV2.layers[156:]:\n",
    "    layer.trainable=True\n",
    "    \n",
    "modelMNV2.compile(optimizer='adam',loss='categorical_crossentropy',metrics=['acc'])\n",
    "\n",
    "step_size_train=train_generator.n//train_generator.batch_size\n",
    "\n",
    "# modelMNV2.summary()"
   ]
  },
  {
   "cell_type": "code",
   "execution_count": 72,
   "id": "be85bc35",
   "metadata": {},
   "outputs": [
    {
     "name": "stdout",
     "output_type": "stream",
     "text": [
      "Epoch 1/15\n",
      "63/63 [==============================] - 234s 4s/step - loss: 0.7122 - acc: 0.6940 - val_loss: 0.4139 - val_acc: 0.8667\n",
      "Epoch 2/15\n",
      "63/63 [==============================] - 210s 3s/step - loss: 0.4669 - acc: 0.8206 - val_loss: 0.3611 - val_acc: 0.8800\n",
      "Epoch 3/15\n",
      "63/63 [==============================] - 236s 4s/step - loss: 0.4064 - acc: 0.8505 - val_loss: 0.3043 - val_acc: 0.9200\n",
      "Epoch 4/15\n",
      "63/63 [==============================] - 212s 3s/step - loss: 0.3722 - acc: 0.8607 - val_loss: 0.2921 - val_acc: 0.8933\n",
      "Epoch 5/15\n",
      "63/63 [==============================] - 203s 3s/step - loss: 0.3427 - acc: 0.8740 - val_loss: 0.3247 - val_acc: 0.8400\n",
      "Epoch 6/15\n",
      "63/63 [==============================] - 200s 3s/step - loss: 0.3269 - acc: 0.8823 - val_loss: 0.2575 - val_acc: 0.9333\n",
      "Epoch 7/15\n",
      "63/63 [==============================] - 192s 3s/step - loss: 0.3183 - acc: 0.8823 - val_loss: 0.2879 - val_acc: 0.8933\n",
      "Epoch 8/15\n",
      "63/63 [==============================] - 197s 3s/step - loss: 0.2964 - acc: 0.8849 - val_loss: 0.2430 - val_acc: 0.8933\n",
      "Epoch 9/15\n",
      "63/63 [==============================] - 207s 3s/step - loss: 0.2984 - acc: 0.8804 - val_loss: 0.2902 - val_acc: 0.8933\n",
      "Epoch 10/15\n",
      "63/63 [==============================] - 204s 3s/step - loss: 0.2926 - acc: 0.8874 - val_loss: 0.3606 - val_acc: 0.8533\n",
      "Epoch 11/15\n",
      "63/63 [==============================] - 211s 3s/step - loss: 0.2755 - acc: 0.9020 - val_loss: 0.2909 - val_acc: 0.8933\n",
      "Epoch 12/15\n",
      "63/63 [==============================] - 206s 3s/step - loss: 0.2538 - acc: 0.9059 - val_loss: 0.2069 - val_acc: 0.9200\n",
      "Epoch 13/15\n",
      "63/63 [==============================] - 208s 3s/step - loss: 0.2577 - acc: 0.9020 - val_loss: 0.2849 - val_acc: 0.9067\n",
      "Epoch 14/15\n",
      "63/63 [==============================] - 197s 3s/step - loss: 0.2536 - acc: 0.9059 - val_loss: 0.2491 - val_acc: 0.9067\n",
      "Epoch 15/15\n",
      "63/63 [==============================] - 196s 3s/step - loss: 0.2392 - acc: 0.9167 - val_loss: 0.2068 - val_acc: 0.8800\n"
     ]
    }
   ],
   "source": [
    "historyMNV2 = modelMNV2.fit_generator(train_generator,\n",
    "                              epochs=15,\n",
    "                              verbose=1,\n",
    "                              validation_data=validation_generator, validation_steps=3)"
   ]
  },
  {
   "cell_type": "code",
   "execution_count": 73,
   "id": "d3caf669",
   "metadata": {},
   "outputs": [
    {
     "name": "stderr",
     "output_type": "stream",
     "text": [
      "<ipython-input-14-e945e4138ec4>:16: UserWarning: Matplotlib is currently using module://matplotlib_inline.backend_inline, which is a non-GUI backend, so cannot show the figure.\n",
      "  f.show()\n"
     ]
    },
    {
     "data": {
      "image/png": "[encoded data removed]",
      "text/plain": [
       "<Figure size 1080x360 with 2 Axes>"
      ]
     },
     "metadata": {
      "needs_background": "light"
     },
     "output_type": "display_data"
    }
   ],
   "source": [
    "plot_acc_and_loss(historyMNV2)"
   ]
  }
 ],
 "metadata": {
  "kernelspec": {
   "display_name": "tensorflow-environment",
   "language": "python",
   "name": "tensorflow-environment"
  },
  "language_info": {
   "codemirror_mode": {
    "name": "ipython",
    "version": 3
   },
   "file_extension": ".py",
   "mimetype": "text/x-python",
   "name": "python",
   "nbconvert_exporter": "python",
   "pygments_lexer": "ipython3",
   "version": "3.8.8"
  }
 },
 "nbformat": 4,
 "nbformat_minor": 5
}
